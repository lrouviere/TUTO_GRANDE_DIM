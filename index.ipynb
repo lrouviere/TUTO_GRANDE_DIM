{
  "cells": [
    {
      "cell_type": "markdown",
      "metadata": {},
      "source": [
        "::: {.content-visible when-format=\"html\"}\n",
        "\n",
        "```{block}\n",
        "\\newcommand{\\prob}{\\mathbf P}\n",
        "\\newcommand{\\argmin}{\\mathop{\\mathrm{argmin}}}\n",
        "\\newcommand{\\ind}{\\mathbf 1}\n",
        "\\newcommand{\\R}{\\mathbb R}\n",
        "\\newcommand{\\esp}{\\mathbf E}\n",
        "\\newcommand{\\var}{\\mathbf V}\n",
        "\\newcommand{\\ps}[2]{\\langle #1,#2\\rangle}\n",
        "\n",
        "```\n",
        "\n",
        ":::\n",
        "\n",
        "\n",
        "# Présentation {#Presentation .unnumbered}\n",
        "\n",
        "\n",
        "Ce tutoriel présente quelques exercices d'application du cours `Modèle linéaire en grande dimension`. On pourra trouver\n",
        "\n",
        "-   les supports de cours associés à ce tutoriel ainsi que les données utilisées à l'adresse suivante <https://lrouviere.github.io/stat_grand_dim/> ;\n",
        "-   le tutoriel sans les corrections à l'url <https://lrouviere.github.io/TUTO_GRANDE_DIM/>\n",
        "-   le tutoriel avec les corrigés (à certains moment) à l'url <https://lrouviere.github.io/TUTO_GRANDE_DIM/correction>.\n",
        "\n",
        "Il est recommandé d'utiliser **mozilla firefox** pour lire le tutoriel.\n",
        "\n",
        "Des connaissances de base en R et en statistique (modèles de régression) sont nécessaires. Le tutoriel se structure en 4 parties :\n",
        "\n",
        "-   `Fléau de la dimension` : identification du problème de la dimension pour le problème de régression ;\n",
        "-   `Régression sur composantes` : présentation des algorithmes **PCR** et **PLS** ;\n",
        "-   `Régressions pénalisées`: régularisation à l'aide de pénalités de type **Ridge/Lasso**\n",
        "-   `Modèle additif` : conservation de la structure additive du modèle linéaire mais modélisation non paramétrique des composantes.\n"
      ],
      "id": "b711b20c"
    }
  ],
  "metadata": {
    "kernelspec": {
      "display_name": "Python 3",
      "language": "python",
      "name": "python3"
    }
  },
  "nbformat": 4,
  "nbformat_minor": 5
}